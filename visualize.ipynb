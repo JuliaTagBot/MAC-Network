{
 "cells": [
  {
   "cell_type": "markdown",
   "metadata": {},
   "source": [
    "# Visual Q&A Demo"
   ]
  },
  {
   "cell_type": "markdown",
   "metadata": {},
   "source": [
    "## Setup\n",
    "1-Adds required packages to Julia.   \n",
    "2-Downloads sample data and a pretrained model. "
   ]
  },
  {
   "cell_type": "code",
   "execution_count": 1,
   "metadata": {},
   "outputs": [],
   "source": [
    "include(\"demosetup.jl\")\n",
    "include(\"src/macnet.jl\")"
   ]
  },
  {
   "cell_type": "markdown",
   "metadata": {},
   "source": [
    "## Initialization\n",
    "1-Loads the sample demo data (image features,questions,vocabulary).   \n",
    "2-Loads the pretrained model.   "
   ]
  },
  {
   "cell_type": "code",
   "execution_count": 3,
   "metadata": {},
   "outputs": [
    {
     "name": "stderr",
     "output_type": "stream",
     "text": [
      "\u001b[1m\u001b[36mINFO: \u001b[39m\u001b[22m\u001b[36mLoading demo features ...\n",
      "\u001b[39m\u001b[1m\u001b[36mINFO: \u001b[39m\u001b[22m\u001b[36mLoading demo questions ...\n",
      "\u001b[39m\u001b[1m\u001b[36mINFO: \u001b[39m\u001b[22m\u001b[36mLoading dictionaries ...\n",
      "\u001b[39m"
     ]
    }
   ],
   "source": [
    "feats,qstsns,(w2i,a2i,i2w,i2a) = loadDemoData(\"data/demo/\");\n",
    "_,wrun,r,_,o = loadmodel(\"models/macnet.jld\";onlywrun=true);\n",
    "#if !(typeof(first(wrun)) <: atype)\n",
    "#    wrun = map(atype,wrun);\n",
    "#end;"
   ]
  },
  {
   "cell_type": "markdown",
   "metadata": {},
   "source": [
    "## Sample Data\n",
    "1-Randomly selects (question,image) pair from the sample data   \n",
    "2-Make predictions for the question and checks whether the prediction is correct   "
   ]
  },
  {
   "cell_type": "code",
   "execution_count": 5,
   "metadata": {},
   "outputs": [
    {
     "data": {
      "text/plain": [
       "true"
      ]
     },
     "execution_count": 5,
     "metadata": {},
     "output_type": "execute_result"
    }
   ],
   "source": [
    "rnd        = rand(1:length(qstsns))\n",
    "inst       = qstsns[rnd]\n",
    "feat       = atype(feats[:,:,:,rnd:rnd])\n",
    "question   = Array{Int}(inst[2])\n",
    "answer     = inst[3];\n",
    "family     = inst[4];\n",
    "results,prediction = singlerun(wrun,r,feat,question;p=o[:p],selfattn=o[:selfattn],gating=o[:gating]);\n",
    "answer==prediction"
   ]
  },
  {
   "cell_type": "code",
   "execution_count": 6,
   "metadata": {},
   "outputs": [
    {
     "name": "stderr",
     "output_type": "stream",
     "text": [
      "\u001b[1m\u001b[36mINFO: \u001b[39m\u001b[22m\u001b[36mRecompiling stale cache file /scratch/users/eakyurek13/.julia/lib/v0.6/ImageMagick.ji for module ImageMagick.\n",
      "\u001b[39m"
     ]
    },
    {
     "ename": "LoadError",
     "evalue": "InitError: \u001b[91merror compiling __init__: could not load library \"/scratch/users/eakyurek13/.julia/v0.6/ImageMagick/deps/usr/lib/libMagickWand-6.Q16.so\"\n/usr/lib64/libz.so.1: version `ZLIB_1.2.9' not found (required by /scratch/users/eakyurek13/.julia/v0.6/ImageMagick/deps/usr/lib/libpng16.so.16)\u001b[39m\nduring initialization of module ImageMagick",
     "output_type": "error",
     "traceback": [
      "InitError: \u001b[91merror compiling __init__: could not load library \"/scratch/users/eakyurek13/.julia/v0.6/ImageMagick/deps/usr/lib/libMagickWand-6.Q16.so\"\n/usr/lib64/libz.so.1: version `ZLIB_1.2.9' not found (required by /scratch/users/eakyurek13/.julia/v0.6/ImageMagick/deps/usr/lib/libpng16.so.16)\u001b[39m\nduring initialization of module ImageMagick",
      ""
     ]
    },
    {
     "name": "stderr",
     "output_type": "stream",
     "text": [
      "Error encountered while loading \"/scratch/users/eakyurek13/mac-network-knet/data/demo/CLEVR_v1.0/images/val/CLEVR_val_004591.png\".\n",
      "Fatal error:\n"
     ]
    }
   ],
   "source": [
    "img = load(\"data/demo/CLEVR_v1.0/images/val/$(inst[1])\")"
   ]
  },
  {
   "cell_type": "code",
   "execution_count": null,
   "metadata": {},
   "outputs": [],
   "source": [
    "textq  = i2w[question];\n",
    "println(\"Question: \",join(textq,\" \"))\n",
    "texta  = i2a[answer];\n",
    "println(\"Answer: $(texta)\\nPrediction: $(i2a[prediction]) \")"
   ]
  },
  {
   "cell_type": "markdown",
   "metadata": {},
   "source": [
    "## User Data\n",
    "You can enter your own question about the image and test whether the prediction is correct"
   ]
  },
  {
   "cell_type": "code",
   "execution_count": null,
   "metadata": {},
   "outputs": [],
   "source": [
    "userinput = readline(STDIN)\n",
    "words = split(userinput) # tokenize(userinput)\n",
    "question = [get!(w2i,wr,1) for wr in words]\n",
    "results,prediction = singlerun(wrun,r,feat,question;p=o[:p],selfattn=o[:selfattn],gating=o[:gating]);\n",
    "println(\"Question: $(join(i2w[question],\" \"))\")\n",
    "println(\"Prediction: $(i2a[prediction])\")"
   ]
  },
  {
   "cell_type": "markdown",
   "metadata": {},
   "source": [
    "## Visualize\n",
    "`visualize` function visualizes attention maps for each time step of the mac network"
   ]
  },
  {
   "cell_type": "code",
   "execution_count": null,
   "metadata": {
    "scrolled": false
   },
   "outputs": [],
   "source": [
    "visualize(img,results;p=o[:p])"
   ]
  }
 ],
 "metadata": {
  "kernelspec": {
   "display_name": "Julia 0.6.4",
   "language": "julia",
   "name": "julia-0.6"
  },
  "language_info": {
   "file_extension": ".jl",
   "mimetype": "application/julia",
   "name": "julia",
   "version": "0.6.4"
  }
 },
 "nbformat": 4,
 "nbformat_minor": 2
}
