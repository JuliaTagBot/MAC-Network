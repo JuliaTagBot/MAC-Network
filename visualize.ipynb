{
 "cells": [
  {
   "cell_type": "markdown",
   "metadata": {},
   "source": [
    "# Visual Q&A Demo"
   ]
  },
  {
   "cell_type": "markdown",
   "metadata": {},
   "source": [
    "## Setup\n",
    "1-Installs required packages   \n",
    "2-Downloads sample data and a pretrained model.     "
   ]
  },
  {
   "cell_type": "code",
   "execution_count": 1,
   "metadata": {},
   "outputs": [
    {
     "name": "stdout",
     "output_type": "stream",
     "text": [
      "\u001b[32m\u001b[1m  Updating\u001b[22m\u001b[39m registry at `~/.julia/registries/General`\n",
      "\u001b[32m\u001b[1m  Updating\u001b[22m\u001b[39m git-repo `https://github.com/JuliaRegistries/General.git`\n",
      "\u001b[?25l\u001b[2K\u001b[?25h"
     ]
    },
    {
     "name": "stderr",
     "output_type": "stream",
     "text": [
      "┌ Warning: Some registries failed to update:\n",
      "│     — /home/gridsan/eakyurek/.julia/registries/General — failed to fetch from repo\n",
      "└ @ Pkg.Types /buildworker/worker/package_linux64/build/usr/share/julia/stdlib/v1.1/Pkg/src/Types.jl:1269\n"
     ]
    },
    {
     "name": "stdout",
     "output_type": "stream",
     "text": [
      "Demo setup is completed\n"
     ]
    },
    {
     "data": {
      "text/plain": [
       "scalepixel (generic function with 1 method)"
      ]
     },
     "execution_count": 1,
     "metadata": {},
     "output_type": "execute_result"
    }
   ],
   "source": [
    "using Pkg; Pkg.activate(\".\"); Pkg.instantiate(); #install required packages\n",
    "include(\"demosetup.jl\") \n",
    "include(\"src/main.jl\")"
   ]
  },
  {
   "cell_type": "markdown",
   "metadata": {},
   "source": [
    "## Initialization\n",
    "1-Loads the sample demo data (image features,questions,vocabulary).   \n",
    "    * w2i : words to one-hot index   : w2i[\"cube\"] = 30  \n",
    "    * a2i : answer to one-hot index  : a2i[\"gray\"] = 8\n",
    "    * i2w : one-hot index to words   : i2w[2] = \"Are\"   \n",
    "    * i2a : one-hot index to answers : i2a[5] = \"large\"   \n",
    "2-Loads the pretrained model, and its hyper-parameters `o`.     "
   ]
  },
  {
   "cell_type": "code",
   "execution_count": 2,
   "metadata": {},
   "outputs": [
    {
     "name": "stdout",
     "output_type": "stream",
     "text": [
      "Loading demo features ...\n",
      "Loading demo questions ...\n",
      "Loading dictionaries ...\n"
     ]
    },
    {
     "data": {
      "text/plain": [
       "Array{Float32,N} where N"
      ]
     },
     "execution_count": 2,
     "metadata": {},
     "output_type": "execute_result"
    }
   ],
   "source": [
    "feats,qstsns,(w2i,a2i,i2w,i2a) = loadDemoData(\"data/demo/\");\n",
    "_,Mrun,o = loadmodel(\"models/macnetnew.jld2\";onlywrun=true);\n",
    "value(params(Mrun)[1]) isa Array ? KnetLayers.settype!(Array) : KnetLayers.settype!(KnetArray)"
   ]
  },
  {
   "cell_type": "markdown",
   "metadata": {},
   "source": [
    "## Sample Data\n",
    "1-Randomly selects (question,image) pair from the sample data   \n",
    "2-Make predictions for the question and checks whether the prediction is correct   "
   ]
  },
  {
   "cell_type": "code",
   "execution_count": 9,
   "metadata": {},
   "outputs": [
    {
     "data": {
      "text/plain": [
       "false"
      ]
     },
     "execution_count": 9,
     "metadata": {},
     "output_type": "execute_result"
    }
   ],
   "source": [
    "rnd        = rand(1:length(qstsns)) # try 41\n",
    "inst       = qstsns[rnd]\n",
    "feat       = arrtype(feats[:,:,:,rnd:rnd])\n",
    "question   = Array{Int}(inst[2])\n",
    "answer     = inst[3];\n",
    "family     = inst[4];\n",
    "results,prediction,interoutputs = singlerun(Mrun,feat,question;p=o[:p],selfattn=o[:selfattn],gating=o[:gating]);\n",
    "interoutputs = first.(interoutputs)\n",
    "answer==prediction[1]"
   ]
  },
  {
   "cell_type": "code",
   "execution_count": 12,
   "metadata": {},
   "outputs": [
    {
     "data": {
      "text/plain": [
       "([6, 28, 28, 28, 28, 28, 28, 28, 28, 28, 28, 28], 28, 12)"
      ]
     },
     "execution_count": 12,
     "metadata": {},
     "output_type": "execute_result"
    }
   ],
   "source": [
    "interoutputs,prediction[1],answer"
   ]
  },
  {
   "cell_type": "code",
   "execution_count": null,
   "metadata": {},
   "outputs": [],
   "source": [
    "img = load(\"data/demo/CLEVR_v1.0/images/val/$(inst[1])\")"
   ]
  },
  {
   "cell_type": "code",
   "execution_count": null,
   "metadata": {},
   "outputs": [],
   "source": [
    "textq  = i2w[question];\n",
    "println(\"Question: \",join(textq,\" \"))\n",
    "texta  = i2a[answer];\n",
    "println(\"Answer: $(texta)\\nPrediction: $(i2a[prediction]) \")"
   ]
  },
  {
   "cell_type": "markdown",
   "metadata": {},
   "source": [
    "## User Data\n",
    "You can enter your own question about the image and test whether the prediction is correct"
   ]
  },
  {
   "cell_type": "code",
   "execution_count": null,
   "metadata": {},
   "outputs": [],
   "source": [
    "userinput = readline(stdin)\n",
    "words = split(userinput) # tokenize(userinput)\n",
    "question = [get!(w2i,wr,1) for wr in words]\n",
    "results,prediction = singlerun(Mrun,feat,question;p=o[:p],selfattn=o[:selfattn],gating=o[:gating]);\n",
    "println(\"Question: $(join(i2w[question],\" \"))\")\n",
    "println(\"Prediction: $(i2a[prediction])\")"
   ]
  },
  {
   "cell_type": "markdown",
   "metadata": {},
   "source": [
    "## Visualize\n",
    "`visualize` function visualizes attention maps for each time step of the mac network"
   ]
  },
  {
   "cell_type": "code",
   "execution_count": null,
   "metadata": {
    "scrolled": true
   },
   "outputs": [],
   "source": [
    "visualize(img,results;p=o[:p])"
   ]
  },
  {
   "cell_type": "code",
   "execution_count": null,
   "metadata": {},
   "outputs": [],
   "source": []
  }
 ],
 "metadata": {
  "kernelspec": {
   "display_name": "Julia 1.1.0",
   "language": "julia",
   "name": "julia-1.1"
  },
  "language_info": {
   "file_extension": ".jl",
   "mimetype": "application/julia",
   "name": "julia",
   "version": "1.1.0"
  }
 },
 "nbformat": 4,
 "nbformat_minor": 2
}
