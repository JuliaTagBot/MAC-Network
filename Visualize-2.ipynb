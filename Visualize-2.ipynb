{
 "cells": [
  {
   "cell_type": "code",
   "execution_count": null,
   "metadata": {},
   "outputs": [],
   "source": [
    "using Images"
   ]
  },
  {
   "cell_type": "code",
   "execution_count": null,
   "metadata": {},
   "outputs": [],
   "source": [
    "global atype = KnetArray{Float32}"
   ]
  },
  {
   "cell_type": "code",
   "execution_count": null,
   "metadata": {},
   "outputs": [],
   "source": [
    "include(\"src/newmacnetwork.jl\")"
   ]
  },
  {
   "cell_type": "code",
   "execution_count": null,
   "metadata": {},
   "outputs": [],
   "source": [
    "feats,qstsns,dics = loadDemoData()"
   ]
  },
  {
   "cell_type": "code",
   "execution_count": null,
   "metadata": {},
   "outputs": [],
   "source": [
    "_,wrun,r,_,p = loadmodel(\"models/demo.jld\")"
   ]
  },
  {
   "cell_type": "code",
   "execution_count": null,
   "metadata": {},
   "outputs": [],
   "source": [
    "qvoc,avoc,i2w,i2a = dics"
   ]
  },
  {
   "cell_type": "code",
   "execution_count": null,
   "metadata": {},
   "outputs": [],
   "source": [
    "r          = randperm(length(qstns))[1]\n",
    "inst       = qstns[r]\n",
    "feat       = feats[:,:,:,r:r]\n",
    "question   = Array{Int}(inst[2].+1)\n",
    "answer     = inst[3].+1;\n",
    "family     = inst[4];\n",
    "results,prediction = visualize(wrun,r,feat,question);"
   ]
  },
  {
   "cell_type": "code",
   "execution_count": null,
   "metadata": {},
   "outputs": [],
   "source": [
    "img = load(\"data/demo/CLEVR_v1.0/images/val/$(inst[1])\")"
   ]
  },
  {
   "cell_type": "code",
   "execution_count": null,
   "metadata": {},
   "outputs": [],
   "source": [
    "textq  = i2w[question];\n",
    "println(\"Question:\\n\",join(textq,\" \"))\n",
    "texta  = i2a[answer];\n",
    "println(\"Answer: $(texta)\\nPrediction: $(i2a[prediction]) \")"
   ]
  },
  {
   "cell_type": "code",
   "execution_count": null,
   "metadata": {},
   "outputs": [],
   "source": [
    "userinput = readline(STDIN)\n",
    "words = split(userinput)\n",
    "question = [ w2i[wr] for wr in words] .+ 1\n",
    "results,prediction = forward(w,r,feat,question);\n",
    "println(\"Prediction: $(i2a[prediction])\")"
   ]
  },
  {
   "cell_type": "code",
   "execution_count": null,
   "metadata": {},
   "outputs": [],
   "source": [
    "s_y,s_x = size(img)./14\n",
    "for k=1:12\n",
    "    α = results[\"w_attn_$(k)\"][:]\n",
    "    println(\"step_$(k) most attn. wrds: \",i2w[question[sortperm(α;rev=true)[1:2]]])\n",
    "    flush(STDOUT)\n",
    "    display([RGB{N0f8}(α[i],α[i],α[i]) for i=1:length(α)]);\n",
    "    hsvimg = convert.(HSV,img);\n",
    "    attn = results[\"KB_attn_$(k)\"]\n",
    "    for i=1:14,j=1:14\n",
    "        rngy          = floor(Int,(i-1)*s_y+1):floor(Int,min(i*s_y,320))\n",
    "        rngx          = floor(Int,(j-1)*s_x+1):floor(Int,min(j*s_x,480))\n",
    "        hsvimg[rngy,rngx]  = scalepixel.(hsvimg[rngy,rngx],attn[sub2ind((14,14),i,j)])\n",
    "    end\n",
    "    display(hsvimg)\n",
    "end"
   ]
  }
 ],
 "metadata": {
  "kernelspec": {
   "display_name": "Julia 0.6.2",
   "language": "julia",
   "name": "julia-0.6"
  },
  "language_info": {
   "file_extension": ".jl",
   "mimetype": "application/julia",
   "name": "julia",
   "version": "0.6.2"
  }
 },
 "nbformat": 4,
 "nbformat_minor": 2
}
